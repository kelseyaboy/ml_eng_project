{
 "cells": [
  {
   "cell_type": "code",
   "execution_count": 212,
   "metadata": {},
   "outputs": [],
   "source": [
    "# Import libraries\n",
    "import numpy as np\n",
    "import pandas as pd\n",
    "import datetime as dt\n",
    "\n",
    "from sklearn.model_selection import train_test_split"
   ]
  },
  {
   "cell_type": "code",
   "execution_count": 213,
   "metadata": {},
   "outputs": [],
   "source": [
    "# Get data\n",
    "train_path = '../data/train.csv'\n",
    "store_path = '../data/store.csv'"
   ]
  },
  {
   "cell_type": "code",
   "execution_count": 214,
   "metadata": {},
   "outputs": [
    {
     "name": "stderr",
     "output_type": "stream",
     "text": [
      "c:\\users\\sheon\\appdata\\local\\programs\\python\\python38\\lib\\site-packages\\IPython\\core\\interactiveshell.py:3145: DtypeWarning: Columns (7) have mixed types.Specify dtype option on import or set low_memory=False.\n",
      "  has_raised = await self.run_ast_nodes(code_ast.body, cell_name,\n"
     ]
    }
   ],
   "source": [
    "train = pd.read_csv(train_path)\n",
    "store = pd.read_csv(store_path)"
   ]
  },
  {
   "cell_type": "markdown",
   "metadata": {},
   "source": [
    "## Prepare train dataset"
   ]
  },
  {
   "cell_type": "code",
   "execution_count": 215,
   "metadata": {
    "scrolled": false
   },
   "outputs": [
    {
     "name": "stdout",
     "output_type": "stream",
     "text": [
      "<class 'pandas.core.frame.DataFrame'>\n",
      "RangeIndex: 914629 entries, 0 to 914628\n",
      "Data columns (total 9 columns):\n",
      " #   Column         Non-Null Count   Dtype \n",
      "---  ------         --------------   ----- \n",
      " 0   Store          914629 non-null  int64 \n",
      " 1   DayOfWeek      914629 non-null  int64 \n",
      " 2   Date           914629 non-null  object\n",
      " 3   Sales          914629 non-null  int64 \n",
      " 4   Customers      914629 non-null  int64 \n",
      " 5   Open           914629 non-null  int64 \n",
      " 6   Promo          914629 non-null  int64 \n",
      " 7   StateHoliday   914629 non-null  object\n",
      " 8   SchoolHoliday  914629 non-null  int64 \n",
      "dtypes: int64(7), object(2)\n",
      "memory usage: 62.8+ MB\n"
     ]
    }
   ],
   "source": [
    "train.info()"
   ]
  },
  {
   "cell_type": "code",
   "execution_count": 216,
   "metadata": {},
   "outputs": [],
   "source": [
    "# Drop records with Open==0 and Customers==0\n",
    "# No customers or when closed would mean 0 sales\n",
    "\n",
    "train = train.drop(train[train['Open']==0].index)\n",
    "train = train.drop(train[train['Customers']==0].index)"
   ]
  },
  {
   "cell_type": "code",
   "execution_count": 217,
   "metadata": {},
   "outputs": [],
   "source": [
    "# Change datatypes\n",
    "# Date to datetime object\n",
    "# Sales to float\n",
    "\n",
    "train['Date'] = train['Date'].apply(lambda x: dt.datetime.strptime(x, '%Y-%m-%d'))\n",
    "train['Sales'] = train['Sales'].astype(float)"
   ]
  },
  {
   "cell_type": "code",
   "execution_count": 218,
   "metadata": {},
   "outputs": [],
   "source": [
    "# Clean fields\n",
    "\n",
    "train['StateHoliday'] = train['StateHoliday'].replace(0, '0')"
   ]
  },
  {
   "cell_type": "markdown",
   "metadata": {},
   "source": [
    "## Prepare store dataset"
   ]
  },
  {
   "cell_type": "code",
   "execution_count": 219,
   "metadata": {},
   "outputs": [
    {
     "name": "stdout",
     "output_type": "stream",
     "text": [
      "<class 'pandas.core.frame.DataFrame'>\n",
      "RangeIndex: 1115 entries, 0 to 1114\n",
      "Data columns (total 10 columns):\n",
      " #   Column                     Non-Null Count  Dtype  \n",
      "---  ------                     --------------  -----  \n",
      " 0   Store                      1115 non-null   int64  \n",
      " 1   StoreType                  1115 non-null   object \n",
      " 2   Assortment                 1115 non-null   object \n",
      " 3   CompetitionDistance        1112 non-null   float64\n",
      " 4   CompetitionOpenSinceMonth  761 non-null    float64\n",
      " 5   CompetitionOpenSinceYear   761 non-null    float64\n",
      " 6   Promo2                     1115 non-null   int64  \n",
      " 7   Promo2SinceWeek            571 non-null    float64\n",
      " 8   Promo2SinceYear            571 non-null    float64\n",
      " 9   PromoInterval              571 non-null    object \n",
      "dtypes: float64(5), int64(2), object(3)\n",
      "memory usage: 87.2+ KB\n"
     ]
    }
   ],
   "source": [
    "store.info()"
   ]
  },
  {
   "cell_type": "code",
   "execution_count": 220,
   "metadata": {},
   "outputs": [],
   "source": [
    "# Clean change datatype of 'CompetitionOpenSinceMonth', 'CompetitionOpenSinceYear'\n",
    "\n",
    "store['CompetitionOpenSinceMonth'] = store['CompetitionOpenSinceMonth'].fillna(0)\n",
    "store['CompetitionOpenSinceYear'] = store['CompetitionOpenSinceYear'].fillna(0)\n",
    "\n",
    "store['CompetitionOpenSinceMonth'] = store['CompetitionOpenSinceMonth'].astype(int)\n",
    "store['CompetitionOpenSinceYear'] = store['CompetitionOpenSinceYear'].astype(int)\n",
    "\n",
    "store['CompetitionOpenSinceMonth'] = store['CompetitionOpenSinceMonth'].astype(str)\n",
    "store['CompetitionOpenSinceYear'] = store['CompetitionOpenSinceYear'].astype(str)\n",
    "\n",
    "store['CompetitionOpenSinceMonth'] = store['CompetitionOpenSinceMonth'].str.pad(width=2, side='left', fillchar='0')\n",
    "\n",
    "store['CompetitionOpenSinceMonth'] = store['CompetitionOpenSinceMonth'].replace('00', '01')\n",
    "store['CompetitionOpenSinceYear'] = store['CompetitionOpenSinceYear'].replace('0', '1800')\n",
    "\n",
    "store['CompetitionOpenSince'] = store['CompetitionOpenSinceMonth']+'_'+store['CompetitionOpenSinceYear']\n",
    "\n",
    "store['CompetitionOpenSince'] = store['CompetitionOpenSince'].apply(lambda x: dt.datetime.strptime(x, '%m_%Y'))"
   ]
  },
  {
   "cell_type": "code",
   "execution_count": 221,
   "metadata": {},
   "outputs": [],
   "source": [
    "# Clean change datatype of 'Promo2SinceMonth', 'Promo2SinceYear'\n",
    "\n",
    "store['Promo2SinceWeek'] = store['Promo2SinceWeek'].fillna(0)\n",
    "store['Promo2SinceYear'] = store['Promo2SinceYear'].fillna(0)\n",
    "\n",
    "store['Promo2SinceWeek'] = store['Promo2SinceWeek'].astype(int)\n",
    "store['Promo2SinceYear'] = store['Promo2SinceYear'].astype(int)\n",
    "\n",
    "store['Promo2SinceWeek'] = store['Promo2SinceWeek'].astype(str)\n",
    "store['Promo2SinceYear'] = store['Promo2SinceYear'].astype(str)\n",
    "\n",
    "store['Promo2SinceWeek'] = store['Promo2SinceWeek'].str.pad(width=2, side='left', fillchar='0')\n",
    "\n",
    "store['Promo2SinceWeek'] = store['Promo2SinceWeek'].replace('00', '01')\n",
    "store['Promo2SinceYear'] = store['Promo2SinceYear'].replace('0', '1800')\n",
    "\n",
    "store['Promo2Since'] = store['Promo2SinceWeek']+'_'+store['Promo2SinceYear']+' SUN'\n",
    "\n",
    "store['Promo2Since'] = store['Promo2Since'].apply(lambda x: dt.datetime.strptime(x, '%U_%Y %a'))"
   ]
  },
  {
   "cell_type": "code",
   "execution_count": 222,
   "metadata": {},
   "outputs": [],
   "source": [
    "# Clean 'PromoInterval'. Replace all Nan to 'None'\n",
    "store['PromoInterval'] = store['PromoInterval'].fillna('None')"
   ]
  },
  {
   "cell_type": "code",
   "execution_count": 223,
   "metadata": {},
   "outputs": [],
   "source": [
    "store['CompetitionDistance'] = store['CompetitionDistance'].fillna(0)"
   ]
  },
  {
   "cell_type": "markdown",
   "metadata": {},
   "source": [
    "## Join train and store"
   ]
  },
  {
   "cell_type": "code",
   "execution_count": 224,
   "metadata": {},
   "outputs": [],
   "source": [
    "data = pd.merge(train, store, on='Store', how='left')"
   ]
  },
  {
   "cell_type": "code",
   "execution_count": 225,
   "metadata": {},
   "outputs": [],
   "source": [
    "# Create 'DaysSinceCompetitionOpen' feature\n",
    "\n",
    "data['DaysSinceCompetitionOpen'] = data.apply(lambda x: 0 if x['CompetitionOpenSince'].year<=dt.date(1800, 12, 31).year else (0 if (x['Date'] <= x['CompetitionOpenSince']) else (x['Date']-x['CompetitionOpenSince']).days), axis=1)"
   ]
  },
  {
   "cell_type": "code",
   "execution_count": 226,
   "metadata": {},
   "outputs": [],
   "source": [
    "# Create 'DaysSincePromo2' feature\n",
    "\n",
    "data['DaysSincePromo2'] = data.apply(lambda x: 0 if x['Promo2Since'].year<=dt.date(1800, 12, 31).year else (0 if (x['Date'] <= x['Promo2Since']) else (x['Date']-x['Promo2Since']).days), axis=1)"
   ]
  },
  {
   "cell_type": "code",
   "execution_count": 227,
   "metadata": {},
   "outputs": [
    {
     "name": "stdout",
     "output_type": "stream",
     "text": [
      "<class 'pandas.core.frame.DataFrame'>\n",
      "Int64Index: 759850 entries, 0 to 759849\n",
      "Data columns (total 22 columns):\n",
      " #   Column                     Non-Null Count   Dtype         \n",
      "---  ------                     --------------   -----         \n",
      " 0   Store                      759850 non-null  int64         \n",
      " 1   DayOfWeek                  759850 non-null  int64         \n",
      " 2   Date                       759850 non-null  datetime64[ns]\n",
      " 3   Sales                      759850 non-null  float64       \n",
      " 4   Customers                  759850 non-null  int64         \n",
      " 5   Open                       759850 non-null  int64         \n",
      " 6   Promo                      759850 non-null  int64         \n",
      " 7   StateHoliday               759850 non-null  object        \n",
      " 8   SchoolHoliday              759850 non-null  int64         \n",
      " 9   StoreType                  759850 non-null  object        \n",
      " 10  Assortment                 759850 non-null  object        \n",
      " 11  CompetitionDistance        759850 non-null  float64       \n",
      " 12  CompetitionOpenSinceMonth  759850 non-null  object        \n",
      " 13  CompetitionOpenSinceYear   759850 non-null  object        \n",
      " 14  Promo2                     759850 non-null  int64         \n",
      " 15  Promo2SinceWeek            759850 non-null  object        \n",
      " 16  Promo2SinceYear            759850 non-null  object        \n",
      " 17  PromoInterval              759850 non-null  object        \n",
      " 18  CompetitionOpenSince       759850 non-null  datetime64[ns]\n",
      " 19  Promo2Since                759850 non-null  datetime64[ns]\n",
      " 20  DaysSinceCompetitionOpen   759850 non-null  int64         \n",
      " 21  DaysSincePromo2            759850 non-null  int64         \n",
      "dtypes: datetime64[ns](3), float64(2), int64(9), object(8)\n",
      "memory usage: 133.3+ MB\n"
     ]
    }
   ],
   "source": [
    "data.info()"
   ]
  },
  {
   "cell_type": "code",
   "execution_count": 228,
   "metadata": {},
   "outputs": [
    {
     "data": {
      "text/html": [
       "<div>\n",
       "<style scoped>\n",
       "    .dataframe tbody tr th:only-of-type {\n",
       "        vertical-align: middle;\n",
       "    }\n",
       "\n",
       "    .dataframe tbody tr th {\n",
       "        vertical-align: top;\n",
       "    }\n",
       "\n",
       "    .dataframe thead th {\n",
       "        text-align: right;\n",
       "    }\n",
       "</style>\n",
       "<table border=\"1\" class=\"dataframe\">\n",
       "  <thead>\n",
       "    <tr style=\"text-align: right;\">\n",
       "      <th></th>\n",
       "      <th>Store</th>\n",
       "      <th>DayOfWeek</th>\n",
       "      <th>Date</th>\n",
       "      <th>Sales</th>\n",
       "      <th>Customers</th>\n",
       "      <th>Open</th>\n",
       "      <th>Promo</th>\n",
       "      <th>StateHoliday</th>\n",
       "      <th>SchoolHoliday</th>\n",
       "      <th>StoreType</th>\n",
       "      <th>...</th>\n",
       "      <th>CompetitionOpenSinceMonth</th>\n",
       "      <th>CompetitionOpenSinceYear</th>\n",
       "      <th>Promo2</th>\n",
       "      <th>Promo2SinceWeek</th>\n",
       "      <th>Promo2SinceYear</th>\n",
       "      <th>PromoInterval</th>\n",
       "      <th>CompetitionOpenSince</th>\n",
       "      <th>Promo2Since</th>\n",
       "      <th>DaysSinceCompetitionOpen</th>\n",
       "      <th>DaysSincePromo2</th>\n",
       "    </tr>\n",
       "  </thead>\n",
       "  <tbody>\n",
       "    <tr>\n",
       "      <th>0</th>\n",
       "      <td>1</td>\n",
       "      <td>4</td>\n",
       "      <td>2015-04-30</td>\n",
       "      <td>6228.0</td>\n",
       "      <td>650</td>\n",
       "      <td>1</td>\n",
       "      <td>1</td>\n",
       "      <td>0</td>\n",
       "      <td>0</td>\n",
       "      <td>c</td>\n",
       "      <td>...</td>\n",
       "      <td>09</td>\n",
       "      <td>2008</td>\n",
       "      <td>0</td>\n",
       "      <td>01</td>\n",
       "      <td>1800</td>\n",
       "      <td>None</td>\n",
       "      <td>2008-09-01</td>\n",
       "      <td>1800-01-05</td>\n",
       "      <td>2432</td>\n",
       "      <td>0</td>\n",
       "    </tr>\n",
       "    <tr>\n",
       "      <th>1</th>\n",
       "      <td>2</td>\n",
       "      <td>4</td>\n",
       "      <td>2015-04-30</td>\n",
       "      <td>6884.0</td>\n",
       "      <td>716</td>\n",
       "      <td>1</td>\n",
       "      <td>1</td>\n",
       "      <td>0</td>\n",
       "      <td>0</td>\n",
       "      <td>a</td>\n",
       "      <td>...</td>\n",
       "      <td>11</td>\n",
       "      <td>2007</td>\n",
       "      <td>1</td>\n",
       "      <td>13</td>\n",
       "      <td>2010</td>\n",
       "      <td>Jan,Apr,Jul,Oct</td>\n",
       "      <td>2007-11-01</td>\n",
       "      <td>2010-03-28</td>\n",
       "      <td>2737</td>\n",
       "      <td>1859</td>\n",
       "    </tr>\n",
       "    <tr>\n",
       "      <th>2</th>\n",
       "      <td>3</td>\n",
       "      <td>4</td>\n",
       "      <td>2015-04-30</td>\n",
       "      <td>9971.0</td>\n",
       "      <td>979</td>\n",
       "      <td>1</td>\n",
       "      <td>1</td>\n",
       "      <td>0</td>\n",
       "      <td>0</td>\n",
       "      <td>a</td>\n",
       "      <td>...</td>\n",
       "      <td>12</td>\n",
       "      <td>2006</td>\n",
       "      <td>1</td>\n",
       "      <td>14</td>\n",
       "      <td>2011</td>\n",
       "      <td>Jan,Apr,Jul,Oct</td>\n",
       "      <td>2006-12-01</td>\n",
       "      <td>2011-04-03</td>\n",
       "      <td>3072</td>\n",
       "      <td>1488</td>\n",
       "    </tr>\n",
       "    <tr>\n",
       "      <th>3</th>\n",
       "      <td>4</td>\n",
       "      <td>4</td>\n",
       "      <td>2015-04-30</td>\n",
       "      <td>16106.0</td>\n",
       "      <td>1854</td>\n",
       "      <td>1</td>\n",
       "      <td>1</td>\n",
       "      <td>0</td>\n",
       "      <td>0</td>\n",
       "      <td>c</td>\n",
       "      <td>...</td>\n",
       "      <td>09</td>\n",
       "      <td>2009</td>\n",
       "      <td>0</td>\n",
       "      <td>01</td>\n",
       "      <td>1800</td>\n",
       "      <td>None</td>\n",
       "      <td>2009-09-01</td>\n",
       "      <td>1800-01-05</td>\n",
       "      <td>2067</td>\n",
       "      <td>0</td>\n",
       "    </tr>\n",
       "    <tr>\n",
       "      <th>4</th>\n",
       "      <td>5</td>\n",
       "      <td>4</td>\n",
       "      <td>2015-04-30</td>\n",
       "      <td>6598.0</td>\n",
       "      <td>729</td>\n",
       "      <td>1</td>\n",
       "      <td>1</td>\n",
       "      <td>0</td>\n",
       "      <td>0</td>\n",
       "      <td>a</td>\n",
       "      <td>...</td>\n",
       "      <td>04</td>\n",
       "      <td>2015</td>\n",
       "      <td>0</td>\n",
       "      <td>01</td>\n",
       "      <td>1800</td>\n",
       "      <td>None</td>\n",
       "      <td>2015-04-01</td>\n",
       "      <td>1800-01-05</td>\n",
       "      <td>29</td>\n",
       "      <td>0</td>\n",
       "    </tr>\n",
       "  </tbody>\n",
       "</table>\n",
       "<p>5 rows × 22 columns</p>\n",
       "</div>"
      ],
      "text/plain": [
       "   Store  DayOfWeek       Date    Sales  Customers  Open  Promo StateHoliday  \\\n",
       "0      1          4 2015-04-30   6228.0        650     1      1            0   \n",
       "1      2          4 2015-04-30   6884.0        716     1      1            0   \n",
       "2      3          4 2015-04-30   9971.0        979     1      1            0   \n",
       "3      4          4 2015-04-30  16106.0       1854     1      1            0   \n",
       "4      5          4 2015-04-30   6598.0        729     1      1            0   \n",
       "\n",
       "   SchoolHoliday StoreType  ... CompetitionOpenSinceMonth  \\\n",
       "0              0         c  ...                        09   \n",
       "1              0         a  ...                        11   \n",
       "2              0         a  ...                        12   \n",
       "3              0         c  ...                        09   \n",
       "4              0         a  ...                        04   \n",
       "\n",
       "   CompetitionOpenSinceYear Promo2 Promo2SinceWeek  Promo2SinceYear  \\\n",
       "0                      2008      0              01             1800   \n",
       "1                      2007      1              13             2010   \n",
       "2                      2006      1              14             2011   \n",
       "3                      2009      0              01             1800   \n",
       "4                      2015      0              01             1800   \n",
       "\n",
       "     PromoInterval CompetitionOpenSince Promo2Since DaysSinceCompetitionOpen  \\\n",
       "0             None           2008-09-01  1800-01-05                     2432   \n",
       "1  Jan,Apr,Jul,Oct           2007-11-01  2010-03-28                     2737   \n",
       "2  Jan,Apr,Jul,Oct           2006-12-01  2011-04-03                     3072   \n",
       "3             None           2009-09-01  1800-01-05                     2067   \n",
       "4             None           2015-04-01  1800-01-05                       29   \n",
       "\n",
       "  DaysSincePromo2  \n",
       "0               0  \n",
       "1            1859  \n",
       "2            1488  \n",
       "3               0  \n",
       "4               0  \n",
       "\n",
       "[5 rows x 22 columns]"
      ]
     },
     "execution_count": 228,
     "metadata": {},
     "output_type": "execute_result"
    }
   ],
   "source": [
    "data.head()"
   ]
  },
  {
   "cell_type": "code",
   "execution_count": 229,
   "metadata": {},
   "outputs": [],
   "source": [
    "for_model = data[['Store', 'Date', 'Sales', \n",
    "                  'Customers', 'Promo', 'StateHoliday', 'StoreType']]"
   ]
  },
  {
   "cell_type": "code",
   "execution_count": 230,
   "metadata": {},
   "outputs": [
    {
     "data": {
      "text/html": [
       "<div>\n",
       "<style scoped>\n",
       "    .dataframe tbody tr th:only-of-type {\n",
       "        vertical-align: middle;\n",
       "    }\n",
       "\n",
       "    .dataframe tbody tr th {\n",
       "        vertical-align: top;\n",
       "    }\n",
       "\n",
       "    .dataframe thead th {\n",
       "        text-align: right;\n",
       "    }\n",
       "</style>\n",
       "<table border=\"1\" class=\"dataframe\">\n",
       "  <thead>\n",
       "    <tr style=\"text-align: right;\">\n",
       "      <th></th>\n",
       "      <th>Store</th>\n",
       "      <th>Date</th>\n",
       "      <th>Sales</th>\n",
       "      <th>Customers</th>\n",
       "      <th>Promo</th>\n",
       "      <th>StateHoliday</th>\n",
       "      <th>StoreType</th>\n",
       "    </tr>\n",
       "  </thead>\n",
       "  <tbody>\n",
       "    <tr>\n",
       "      <th>0</th>\n",
       "      <td>1</td>\n",
       "      <td>2015-04-30</td>\n",
       "      <td>6228.0</td>\n",
       "      <td>650</td>\n",
       "      <td>1</td>\n",
       "      <td>0</td>\n",
       "      <td>c</td>\n",
       "    </tr>\n",
       "    <tr>\n",
       "      <th>1</th>\n",
       "      <td>2</td>\n",
       "      <td>2015-04-30</td>\n",
       "      <td>6884.0</td>\n",
       "      <td>716</td>\n",
       "      <td>1</td>\n",
       "      <td>0</td>\n",
       "      <td>a</td>\n",
       "    </tr>\n",
       "    <tr>\n",
       "      <th>2</th>\n",
       "      <td>3</td>\n",
       "      <td>2015-04-30</td>\n",
       "      <td>9971.0</td>\n",
       "      <td>979</td>\n",
       "      <td>1</td>\n",
       "      <td>0</td>\n",
       "      <td>a</td>\n",
       "    </tr>\n",
       "    <tr>\n",
       "      <th>3</th>\n",
       "      <td>4</td>\n",
       "      <td>2015-04-30</td>\n",
       "      <td>16106.0</td>\n",
       "      <td>1854</td>\n",
       "      <td>1</td>\n",
       "      <td>0</td>\n",
       "      <td>c</td>\n",
       "    </tr>\n",
       "    <tr>\n",
       "      <th>4</th>\n",
       "      <td>5</td>\n",
       "      <td>2015-04-30</td>\n",
       "      <td>6598.0</td>\n",
       "      <td>729</td>\n",
       "      <td>1</td>\n",
       "      <td>0</td>\n",
       "      <td>a</td>\n",
       "    </tr>\n",
       "    <tr>\n",
       "      <th>...</th>\n",
       "      <td>...</td>\n",
       "      <td>...</td>\n",
       "      <td>...</td>\n",
       "      <td>...</td>\n",
       "      <td>...</td>\n",
       "      <td>...</td>\n",
       "      <td>...</td>\n",
       "    </tr>\n",
       "    <tr>\n",
       "      <th>759845</th>\n",
       "      <td>682</td>\n",
       "      <td>2013-01-01</td>\n",
       "      <td>3375.0</td>\n",
       "      <td>566</td>\n",
       "      <td>0</td>\n",
       "      <td>a</td>\n",
       "      <td>b</td>\n",
       "    </tr>\n",
       "    <tr>\n",
       "      <th>759846</th>\n",
       "      <td>733</td>\n",
       "      <td>2013-01-01</td>\n",
       "      <td>10765.0</td>\n",
       "      <td>2377</td>\n",
       "      <td>0</td>\n",
       "      <td>a</td>\n",
       "      <td>b</td>\n",
       "    </tr>\n",
       "    <tr>\n",
       "      <th>759847</th>\n",
       "      <td>769</td>\n",
       "      <td>2013-01-01</td>\n",
       "      <td>5035.0</td>\n",
       "      <td>1248</td>\n",
       "      <td>0</td>\n",
       "      <td>a</td>\n",
       "      <td>b</td>\n",
       "    </tr>\n",
       "    <tr>\n",
       "      <th>759848</th>\n",
       "      <td>948</td>\n",
       "      <td>2013-01-01</td>\n",
       "      <td>4491.0</td>\n",
       "      <td>1039</td>\n",
       "      <td>0</td>\n",
       "      <td>a</td>\n",
       "      <td>b</td>\n",
       "    </tr>\n",
       "    <tr>\n",
       "      <th>759849</th>\n",
       "      <td>1097</td>\n",
       "      <td>2013-01-01</td>\n",
       "      <td>5961.0</td>\n",
       "      <td>1405</td>\n",
       "      <td>0</td>\n",
       "      <td>a</td>\n",
       "      <td>b</td>\n",
       "    </tr>\n",
       "  </tbody>\n",
       "</table>\n",
       "<p>759850 rows × 7 columns</p>\n",
       "</div>"
      ],
      "text/plain": [
       "        Store       Date    Sales  Customers  Promo StateHoliday StoreType\n",
       "0           1 2015-04-30   6228.0        650      1            0         c\n",
       "1           2 2015-04-30   6884.0        716      1            0         a\n",
       "2           3 2015-04-30   9971.0        979      1            0         a\n",
       "3           4 2015-04-30  16106.0       1854      1            0         c\n",
       "4           5 2015-04-30   6598.0        729      1            0         a\n",
       "...       ...        ...      ...        ...    ...          ...       ...\n",
       "759845    682 2013-01-01   3375.0        566      0            a         b\n",
       "759846    733 2013-01-01  10765.0       2377      0            a         b\n",
       "759847    769 2013-01-01   5035.0       1248      0            a         b\n",
       "759848    948 2013-01-01   4491.0       1039      0            a         b\n",
       "759849   1097 2013-01-01   5961.0       1405      0            a         b\n",
       "\n",
       "[759850 rows x 7 columns]"
      ]
     },
     "execution_count": 230,
     "metadata": {},
     "output_type": "execute_result"
    }
   ],
   "source": [
    "for_model"
   ]
  },
  {
   "cell_type": "code",
   "execution_count": 256,
   "metadata": {},
   "outputs": [],
   "source": [
    "new_df = pd.DataFrame()\n",
    "store1 = for_model[for_model['Store']==1]\n",
    "store1 = store1.sort_values('Date', ascending=True)"
   ]
  },
  {
   "cell_type": "code",
   "execution_count": 251,
   "metadata": {},
   "outputs": [],
   "source": [
    "store1['prev_sales'] = store1['Sales'].shift(1)"
   ]
  },
  {
   "cell_type": "code",
   "execution_count": 253,
   "metadata": {},
   "outputs": [],
   "source": [
    "store1 = store1.dropna()"
   ]
  },
  {
   "cell_type": "code",
   "execution_count": 257,
   "metadata": {},
   "outputs": [],
   "source": [
    "new_df = new_df.append(store1)"
   ]
  },
  {
   "cell_type": "code",
   "execution_count": 258,
   "metadata": {},
   "outputs": [
    {
     "data": {
      "text/html": [
       "<div>\n",
       "<style scoped>\n",
       "    .dataframe tbody tr th:only-of-type {\n",
       "        vertical-align: middle;\n",
       "    }\n",
       "\n",
       "    .dataframe tbody tr th {\n",
       "        vertical-align: top;\n",
       "    }\n",
       "\n",
       "    .dataframe thead th {\n",
       "        text-align: right;\n",
       "    }\n",
       "</style>\n",
       "<table border=\"1\" class=\"dataframe\">\n",
       "  <thead>\n",
       "    <tr style=\"text-align: right;\">\n",
       "      <th></th>\n",
       "      <th>Store</th>\n",
       "      <th>Date</th>\n",
       "      <th>Sales</th>\n",
       "      <th>Customers</th>\n",
       "      <th>Promo</th>\n",
       "      <th>StateHoliday</th>\n",
       "      <th>StoreType</th>\n",
       "    </tr>\n",
       "  </thead>\n",
       "  <tbody>\n",
       "    <tr>\n",
       "      <th>758722</th>\n",
       "      <td>1</td>\n",
       "      <td>2013-01-02</td>\n",
       "      <td>5530.0</td>\n",
       "      <td>668</td>\n",
       "      <td>0</td>\n",
       "      <td>0</td>\n",
       "      <td>c</td>\n",
       "    </tr>\n",
       "    <tr>\n",
       "      <th>757613</th>\n",
       "      <td>1</td>\n",
       "      <td>2013-01-03</td>\n",
       "      <td>4327.0</td>\n",
       "      <td>578</td>\n",
       "      <td>0</td>\n",
       "      <td>0</td>\n",
       "      <td>c</td>\n",
       "    </tr>\n",
       "    <tr>\n",
       "      <th>756505</th>\n",
       "      <td>1</td>\n",
       "      <td>2013-01-04</td>\n",
       "      <td>4486.0</td>\n",
       "      <td>619</td>\n",
       "      <td>0</td>\n",
       "      <td>0</td>\n",
       "      <td>c</td>\n",
       "    </tr>\n",
       "    <tr>\n",
       "      <th>755398</th>\n",
       "      <td>1</td>\n",
       "      <td>2013-01-05</td>\n",
       "      <td>4997.0</td>\n",
       "      <td>635</td>\n",
       "      <td>0</td>\n",
       "      <td>0</td>\n",
       "      <td>c</td>\n",
       "    </tr>\n",
       "    <tr>\n",
       "      <th>754273</th>\n",
       "      <td>1</td>\n",
       "      <td>2013-01-07</td>\n",
       "      <td>7176.0</td>\n",
       "      <td>785</td>\n",
       "      <td>1</td>\n",
       "      <td>0</td>\n",
       "      <td>c</td>\n",
       "    </tr>\n",
       "    <tr>\n",
       "      <th>...</th>\n",
       "      <td>...</td>\n",
       "      <td>...</td>\n",
       "      <td>...</td>\n",
       "      <td>...</td>\n",
       "      <td>...</td>\n",
       "      <td>...</td>\n",
       "      <td>...</td>\n",
       "    </tr>\n",
       "    <tr>\n",
       "      <th>4491</th>\n",
       "      <td>1</td>\n",
       "      <td>2015-04-25</td>\n",
       "      <td>4318.0</td>\n",
       "      <td>537</td>\n",
       "      <td>0</td>\n",
       "      <td>0</td>\n",
       "      <td>c</td>\n",
       "    </tr>\n",
       "    <tr>\n",
       "      <th>3344</th>\n",
       "      <td>1</td>\n",
       "      <td>2015-04-27</td>\n",
       "      <td>5575.0</td>\n",
       "      <td>574</td>\n",
       "      <td>1</td>\n",
       "      <td>0</td>\n",
       "      <td>c</td>\n",
       "    </tr>\n",
       "    <tr>\n",
       "      <th>2230</th>\n",
       "      <td>1</td>\n",
       "      <td>2015-04-28</td>\n",
       "      <td>5199.0</td>\n",
       "      <td>552</td>\n",
       "      <td>1</td>\n",
       "      <td>0</td>\n",
       "      <td>c</td>\n",
       "    </tr>\n",
       "    <tr>\n",
       "      <th>1115</th>\n",
       "      <td>1</td>\n",
       "      <td>2015-04-29</td>\n",
       "      <td>5775.0</td>\n",
       "      <td>579</td>\n",
       "      <td>1</td>\n",
       "      <td>0</td>\n",
       "      <td>c</td>\n",
       "    </tr>\n",
       "    <tr>\n",
       "      <th>0</th>\n",
       "      <td>1</td>\n",
       "      <td>2015-04-30</td>\n",
       "      <td>6228.0</td>\n",
       "      <td>650</td>\n",
       "      <td>1</td>\n",
       "      <td>0</td>\n",
       "      <td>c</td>\n",
       "    </tr>\n",
       "  </tbody>\n",
       "</table>\n",
       "<p>706 rows × 7 columns</p>\n",
       "</div>"
      ],
      "text/plain": [
       "        Store       Date   Sales  Customers  Promo StateHoliday StoreType\n",
       "758722      1 2013-01-02  5530.0        668      0            0         c\n",
       "757613      1 2013-01-03  4327.0        578      0            0         c\n",
       "756505      1 2013-01-04  4486.0        619      0            0         c\n",
       "755398      1 2013-01-05  4997.0        635      0            0         c\n",
       "754273      1 2013-01-07  7176.0        785      1            0         c\n",
       "...       ...        ...     ...        ...    ...          ...       ...\n",
       "4491        1 2015-04-25  4318.0        537      0            0         c\n",
       "3344        1 2015-04-27  5575.0        574      1            0         c\n",
       "2230        1 2015-04-28  5199.0        552      1            0         c\n",
       "1115        1 2015-04-29  5775.0        579      1            0         c\n",
       "0           1 2015-04-30  6228.0        650      1            0         c\n",
       "\n",
       "[706 rows x 7 columns]"
      ]
     },
     "execution_count": 258,
     "metadata": {},
     "output_type": "execute_result"
    }
   ],
   "source": [
    "new_df"
   ]
  },
  {
   "cell_type": "code",
   "execution_count": 259,
   "metadata": {},
   "outputs": [],
   "source": [
    "new_df = pd.DataFrame()\n",
    "\n",
    "for store in for_model['Store'].unique():\n",
    "    curr_store = for_model[for_model['Store']==store]\n",
    "    curr_store = curr_store.sort_values('Date', ascending=True)\n",
    "    curr_store['prev_sales'] = curr_store['Sales'].shift(1)\n",
    "    curr_store = curr_store.dropna()\n",
    "    \n",
    "    new_df = new_df.append(curr_store)"
   ]
  },
  {
   "cell_type": "code",
   "execution_count": 260,
   "metadata": {},
   "outputs": [
    {
     "data": {
      "text/html": [
       "<div>\n",
       "<style scoped>\n",
       "    .dataframe tbody tr th:only-of-type {\n",
       "        vertical-align: middle;\n",
       "    }\n",
       "\n",
       "    .dataframe tbody tr th {\n",
       "        vertical-align: top;\n",
       "    }\n",
       "\n",
       "    .dataframe thead th {\n",
       "        text-align: right;\n",
       "    }\n",
       "</style>\n",
       "<table border=\"1\" class=\"dataframe\">\n",
       "  <thead>\n",
       "    <tr style=\"text-align: right;\">\n",
       "      <th></th>\n",
       "      <th>Store</th>\n",
       "      <th>Date</th>\n",
       "      <th>Sales</th>\n",
       "      <th>Customers</th>\n",
       "      <th>Promo</th>\n",
       "      <th>StateHoliday</th>\n",
       "      <th>StoreType</th>\n",
       "      <th>prev_sales</th>\n",
       "    </tr>\n",
       "  </thead>\n",
       "  <tbody>\n",
       "    <tr>\n",
       "      <th>757613</th>\n",
       "      <td>1</td>\n",
       "      <td>2013-01-03</td>\n",
       "      <td>4327.0</td>\n",
       "      <td>578</td>\n",
       "      <td>0</td>\n",
       "      <td>0</td>\n",
       "      <td>c</td>\n",
       "      <td>5530.0</td>\n",
       "    </tr>\n",
       "    <tr>\n",
       "      <th>756505</th>\n",
       "      <td>1</td>\n",
       "      <td>2013-01-04</td>\n",
       "      <td>4486.0</td>\n",
       "      <td>619</td>\n",
       "      <td>0</td>\n",
       "      <td>0</td>\n",
       "      <td>c</td>\n",
       "      <td>4327.0</td>\n",
       "    </tr>\n",
       "    <tr>\n",
       "      <th>755398</th>\n",
       "      <td>1</td>\n",
       "      <td>2013-01-05</td>\n",
       "      <td>4997.0</td>\n",
       "      <td>635</td>\n",
       "      <td>0</td>\n",
       "      <td>0</td>\n",
       "      <td>c</td>\n",
       "      <td>4486.0</td>\n",
       "    </tr>\n",
       "    <tr>\n",
       "      <th>754273</th>\n",
       "      <td>1</td>\n",
       "      <td>2013-01-07</td>\n",
       "      <td>7176.0</td>\n",
       "      <td>785</td>\n",
       "      <td>1</td>\n",
       "      <td>0</td>\n",
       "      <td>c</td>\n",
       "      <td>4997.0</td>\n",
       "    </tr>\n",
       "    <tr>\n",
       "      <th>753168</th>\n",
       "      <td>1</td>\n",
       "      <td>2013-01-08</td>\n",
       "      <td>5580.0</td>\n",
       "      <td>654</td>\n",
       "      <td>1</td>\n",
       "      <td>0</td>\n",
       "      <td>c</td>\n",
       "      <td>7176.0</td>\n",
       "    </tr>\n",
       "    <tr>\n",
       "      <th>...</th>\n",
       "      <td>...</td>\n",
       "      <td>...</td>\n",
       "      <td>...</td>\n",
       "      <td>...</td>\n",
       "      <td>...</td>\n",
       "      <td>...</td>\n",
       "      <td>...</td>\n",
       "      <td>...</td>\n",
       "    </tr>\n",
       "    <tr>\n",
       "      <th>5605</th>\n",
       "      <td>1115</td>\n",
       "      <td>2015-04-25</td>\n",
       "      <td>7620.0</td>\n",
       "      <td>549</td>\n",
       "      <td>0</td>\n",
       "      <td>0</td>\n",
       "      <td>d</td>\n",
       "      <td>5245.0</td>\n",
       "    </tr>\n",
       "    <tr>\n",
       "      <th>4458</th>\n",
       "      <td>1115</td>\n",
       "      <td>2015-04-27</td>\n",
       "      <td>10211.0</td>\n",
       "      <td>578</td>\n",
       "      <td>1</td>\n",
       "      <td>0</td>\n",
       "      <td>d</td>\n",
       "      <td>7620.0</td>\n",
       "    </tr>\n",
       "    <tr>\n",
       "      <th>3343</th>\n",
       "      <td>1115</td>\n",
       "      <td>2015-04-28</td>\n",
       "      <td>7287.0</td>\n",
       "      <td>481</td>\n",
       "      <td>1</td>\n",
       "      <td>0</td>\n",
       "      <td>d</td>\n",
       "      <td>10211.0</td>\n",
       "    </tr>\n",
       "    <tr>\n",
       "      <th>2229</th>\n",
       "      <td>1115</td>\n",
       "      <td>2015-04-29</td>\n",
       "      <td>8148.0</td>\n",
       "      <td>518</td>\n",
       "      <td>1</td>\n",
       "      <td>0</td>\n",
       "      <td>d</td>\n",
       "      <td>7287.0</td>\n",
       "    </tr>\n",
       "    <tr>\n",
       "      <th>1114</th>\n",
       "      <td>1115</td>\n",
       "      <td>2015-04-30</td>\n",
       "      <td>9598.0</td>\n",
       "      <td>623</td>\n",
       "      <td>1</td>\n",
       "      <td>0</td>\n",
       "      <td>d</td>\n",
       "      <td>8148.0</td>\n",
       "    </tr>\n",
       "  </tbody>\n",
       "</table>\n",
       "<p>758735 rows × 8 columns</p>\n",
       "</div>"
      ],
      "text/plain": [
       "        Store       Date    Sales  Customers  Promo StateHoliday StoreType  \\\n",
       "757613      1 2013-01-03   4327.0        578      0            0         c   \n",
       "756505      1 2013-01-04   4486.0        619      0            0         c   \n",
       "755398      1 2013-01-05   4997.0        635      0            0         c   \n",
       "754273      1 2013-01-07   7176.0        785      1            0         c   \n",
       "753168      1 2013-01-08   5580.0        654      1            0         c   \n",
       "...       ...        ...      ...        ...    ...          ...       ...   \n",
       "5605     1115 2015-04-25   7620.0        549      0            0         d   \n",
       "4458     1115 2015-04-27  10211.0        578      1            0         d   \n",
       "3343     1115 2015-04-28   7287.0        481      1            0         d   \n",
       "2229     1115 2015-04-29   8148.0        518      1            0         d   \n",
       "1114     1115 2015-04-30   9598.0        623      1            0         d   \n",
       "\n",
       "        prev_sales  \n",
       "757613      5530.0  \n",
       "756505      4327.0  \n",
       "755398      4486.0  \n",
       "754273      4997.0  \n",
       "753168      7176.0  \n",
       "...            ...  \n",
       "5605        5245.0  \n",
       "4458        7620.0  \n",
       "3343       10211.0  \n",
       "2229        7287.0  \n",
       "1114        8148.0  \n",
       "\n",
       "[758735 rows x 8 columns]"
      ]
     },
     "execution_count": 260,
     "metadata": {},
     "output_type": "execute_result"
    }
   ],
   "source": [
    "new_df"
   ]
  },
  {
   "cell_type": "code",
   "execution_count": 261,
   "metadata": {},
   "outputs": [],
   "source": [
    "new_df = pd.get_dummies(new_df, \n",
    "                           columns=['StateHoliday', 'StoreType'],\n",
    "                           drop_first=True)"
   ]
  },
  {
   "cell_type": "code",
   "execution_count": 264,
   "metadata": {},
   "outputs": [],
   "source": [
    "new_df = new_df.sort_index()"
   ]
  },
  {
   "cell_type": "code",
   "execution_count": 265,
   "metadata": {},
   "outputs": [
    {
     "name": "stdout",
     "output_type": "stream",
     "text": [
      "<class 'pandas.core.frame.DataFrame'>\n",
      "Int64Index: 758735 entries, 0 to 759814\n",
      "Data columns (total 12 columns):\n",
      " #   Column          Non-Null Count   Dtype         \n",
      "---  ------          --------------   -----         \n",
      " 0   Store           758735 non-null  int64         \n",
      " 1   Date            758735 non-null  datetime64[ns]\n",
      " 2   Sales           758735 non-null  float64       \n",
      " 3   Customers       758735 non-null  int64         \n",
      " 4   Promo           758735 non-null  int64         \n",
      " 5   prev_sales      758735 non-null  float64       \n",
      " 6   StateHoliday_a  758735 non-null  uint8         \n",
      " 7   StateHoliday_b  758735 non-null  uint8         \n",
      " 8   StateHoliday_c  758735 non-null  uint8         \n",
      " 9   StoreType_b     758735 non-null  uint8         \n",
      " 10  StoreType_c     758735 non-null  uint8         \n",
      " 11  StoreType_d     758735 non-null  uint8         \n",
      "dtypes: datetime64[ns](1), float64(2), int64(3), uint8(6)\n",
      "memory usage: 44.9 MB\n"
     ]
    }
   ],
   "source": [
    "new_df.info()"
   ]
  },
  {
   "cell_type": "code",
   "execution_count": 275,
   "metadata": {},
   "outputs": [],
   "source": [
    "X = new_df.drop(['Store', 'Date', 'Sales'], axis=1)\n",
    "y = new_df[['Sales']]"
   ]
  },
  {
   "cell_type": "code",
   "execution_count": 276,
   "metadata": {},
   "outputs": [],
   "source": [
    "X_train, X_test, y_train, y_test = train_test_split(X, y, test_size=0.3)"
   ]
  },
  {
   "cell_type": "code",
   "execution_count": 295,
   "metadata": {},
   "outputs": [],
   "source": [
    "stores = list(new_df['Store'].unique())"
   ]
  },
  {
   "cell_type": "code",
   "execution_count": 303,
   "metadata": {},
   "outputs": [
    {
     "name": "stdout",
     "output_type": "stream",
     "text": [
      "780\n",
      "335\n",
      "1115\n"
     ]
    }
   ],
   "source": [
    "import random\n",
    "\n",
    "train_prop = int(0.7*len(stores))\n",
    "print(train_prop)\n",
    "\n",
    "train_list = random.sample(stores, train_prop)\n",
    "test_list = []\n",
    "\n",
    "for store in stores:\n",
    "    if store not in train_list:\n",
    "        test_list.append(store)\n",
    "\n",
    "print(len(test_list))\n",
    "print(str(len(test_list)+len(train_list)))"
   ]
  },
  {
   "cell_type": "code",
   "execution_count": 299,
   "metadata": {},
   "outputs": [
    {
     "ename": "ValueError",
     "evalue": "('Lengths must match to compare', (758735,), (780,))",
     "output_type": "error",
     "traceback": [
      "\u001b[1;31m---------------------------------------------------------------------------\u001b[0m",
      "\u001b[1;31mValueError\u001b[0m                                Traceback (most recent call last)",
      "\u001b[1;32m<ipython-input-299-6002280ec17d>\u001b[0m in \u001b[0;36m<module>\u001b[1;34m\u001b[0m\n\u001b[1;32m----> 1\u001b[1;33m \u001b[0mX\u001b[0m \u001b[1;33m=\u001b[0m \u001b[0mnew_df\u001b[0m\u001b[1;33m[\u001b[0m\u001b[0mnew_df\u001b[0m\u001b[1;33m[\u001b[0m\u001b[1;34m'Store'\u001b[0m\u001b[1;33m]\u001b[0m\u001b[1;33m==\u001b[0m\u001b[0mtrain_list\u001b[0m\u001b[1;33m]\u001b[0m\u001b[1;33m\u001b[0m\u001b[1;33m\u001b[0m\u001b[0m\n\u001b[0m",
      "\u001b[1;32mc:\\users\\sheon\\appdata\\local\\programs\\python\\python38\\lib\\site-packages\\pandas\\core\\ops\\common.py\u001b[0m in \u001b[0;36mnew_method\u001b[1;34m(self, other)\u001b[0m\n\u001b[0;32m     63\u001b[0m         \u001b[0mother\u001b[0m \u001b[1;33m=\u001b[0m \u001b[0mitem_from_zerodim\u001b[0m\u001b[1;33m(\u001b[0m\u001b[0mother\u001b[0m\u001b[1;33m)\u001b[0m\u001b[1;33m\u001b[0m\u001b[1;33m\u001b[0m\u001b[0m\n\u001b[0;32m     64\u001b[0m \u001b[1;33m\u001b[0m\u001b[0m\n\u001b[1;32m---> 65\u001b[1;33m         \u001b[1;32mreturn\u001b[0m \u001b[0mmethod\u001b[0m\u001b[1;33m(\u001b[0m\u001b[0mself\u001b[0m\u001b[1;33m,\u001b[0m \u001b[0mother\u001b[0m\u001b[1;33m)\u001b[0m\u001b[1;33m\u001b[0m\u001b[1;33m\u001b[0m\u001b[0m\n\u001b[0m\u001b[0;32m     66\u001b[0m \u001b[1;33m\u001b[0m\u001b[0m\n\u001b[0;32m     67\u001b[0m     \u001b[1;32mreturn\u001b[0m \u001b[0mnew_method\u001b[0m\u001b[1;33m\u001b[0m\u001b[1;33m\u001b[0m\u001b[0m\n",
      "\u001b[1;32mc:\\users\\sheon\\appdata\\local\\programs\\python\\python38\\lib\\site-packages\\pandas\\core\\ops\\__init__.py\u001b[0m in \u001b[0;36mwrapper\u001b[1;34m(self, other)\u001b[0m\n\u001b[0;32m    368\u001b[0m         \u001b[0mrvalues\u001b[0m \u001b[1;33m=\u001b[0m \u001b[0mextract_array\u001b[0m\u001b[1;33m(\u001b[0m\u001b[0mother\u001b[0m\u001b[1;33m,\u001b[0m \u001b[0mextract_numpy\u001b[0m\u001b[1;33m=\u001b[0m\u001b[1;32mTrue\u001b[0m\u001b[1;33m)\u001b[0m\u001b[1;33m\u001b[0m\u001b[1;33m\u001b[0m\u001b[0m\n\u001b[0;32m    369\u001b[0m \u001b[1;33m\u001b[0m\u001b[0m\n\u001b[1;32m--> 370\u001b[1;33m         \u001b[0mres_values\u001b[0m \u001b[1;33m=\u001b[0m \u001b[0mcomparison_op\u001b[0m\u001b[1;33m(\u001b[0m\u001b[0mlvalues\u001b[0m\u001b[1;33m,\u001b[0m \u001b[0mrvalues\u001b[0m\u001b[1;33m,\u001b[0m \u001b[0mop\u001b[0m\u001b[1;33m)\u001b[0m\u001b[1;33m\u001b[0m\u001b[1;33m\u001b[0m\u001b[0m\n\u001b[0m\u001b[0;32m    371\u001b[0m \u001b[1;33m\u001b[0m\u001b[0m\n\u001b[0;32m    372\u001b[0m         \u001b[1;32mreturn\u001b[0m \u001b[0mself\u001b[0m\u001b[1;33m.\u001b[0m\u001b[0m_construct_result\u001b[0m\u001b[1;33m(\u001b[0m\u001b[0mres_values\u001b[0m\u001b[1;33m,\u001b[0m \u001b[0mname\u001b[0m\u001b[1;33m=\u001b[0m\u001b[0mres_name\u001b[0m\u001b[1;33m)\u001b[0m\u001b[1;33m\u001b[0m\u001b[1;33m\u001b[0m\u001b[0m\n",
      "\u001b[1;32mc:\\users\\sheon\\appdata\\local\\programs\\python\\python38\\lib\\site-packages\\pandas\\core\\ops\\array_ops.py\u001b[0m in \u001b[0;36mcomparison_op\u001b[1;34m(left, right, op)\u001b[0m\n\u001b[0;32m    222\u001b[0m         \u001b[1;31m#  The ambiguous case is object-dtype.  See GH#27803\u001b[0m\u001b[1;33m\u001b[0m\u001b[1;33m\u001b[0m\u001b[1;33m\u001b[0m\u001b[0m\n\u001b[0;32m    223\u001b[0m         \u001b[1;32mif\u001b[0m \u001b[0mlen\u001b[0m\u001b[1;33m(\u001b[0m\u001b[0mlvalues\u001b[0m\u001b[1;33m)\u001b[0m \u001b[1;33m!=\u001b[0m \u001b[0mlen\u001b[0m\u001b[1;33m(\u001b[0m\u001b[0mrvalues\u001b[0m\u001b[1;33m)\u001b[0m\u001b[1;33m:\u001b[0m\u001b[1;33m\u001b[0m\u001b[1;33m\u001b[0m\u001b[0m\n\u001b[1;32m--> 224\u001b[1;33m             raise ValueError(\n\u001b[0m\u001b[0;32m    225\u001b[0m                 \u001b[1;34m\"Lengths must match to compare\"\u001b[0m\u001b[1;33m,\u001b[0m \u001b[0mlvalues\u001b[0m\u001b[1;33m.\u001b[0m\u001b[0mshape\u001b[0m\u001b[1;33m,\u001b[0m \u001b[0mrvalues\u001b[0m\u001b[1;33m.\u001b[0m\u001b[0mshape\u001b[0m\u001b[1;33m\u001b[0m\u001b[1;33m\u001b[0m\u001b[0m\n\u001b[0;32m    226\u001b[0m             )\n",
      "\u001b[1;31mValueError\u001b[0m: ('Lengths must match to compare', (758735,), (780,))"
     ]
    }
   ],
   "source": [
    "X = pd.DataFrame()\n"
   ]
  },
  {
   "cell_type": "markdown",
   "metadata": {},
   "source": [
    "## Linear Regression"
   ]
  },
  {
   "cell_type": "code",
   "execution_count": 277,
   "metadata": {},
   "outputs": [
    {
     "name": "stdout",
     "output_type": "stream",
     "text": [
      "0.8379828356118637\n",
      "0.8386863885732755\n",
      "1561751.859706707\n"
     ]
    }
   ],
   "source": [
    "from sklearn.linear_model import LinearRegression\n",
    "from sklearn.metrics import mean_squared_error\n",
    "\n",
    "lin_reg = LinearRegression()\n",
    "lin_reg.fit(X_train, y_train)\n",
    "print(lin_reg.score(X_train, y_train))\n",
    "lin_pred = lin_reg.predict(X_test)\n",
    "print(lin_reg.score(X_test, y_test))\n",
    "print(mean_squared_error(y_test, lin_pred))"
   ]
  },
  {
   "cell_type": "markdown",
   "metadata": {},
   "source": [
    "## Decision Tree Regression"
   ]
  },
  {
   "cell_type": "code",
   "execution_count": 278,
   "metadata": {},
   "outputs": [
    {
     "name": "stdout",
     "output_type": "stream",
     "text": [
      "0.9991613849231343\n",
      "0.7630642645559487\n",
      "2293884.7019044575\n"
     ]
    }
   ],
   "source": [
    "from sklearn.tree import DecisionTreeRegressor\n",
    "\n",
    "tree_reg = DecisionTreeRegressor()\n",
    "tree_reg.fit(X_train, y_train)\n",
    "print(tree_reg.score(X_train, y_train))\n",
    "tree_pred = tree_reg.predict(X_test)\n",
    "print(tree_reg.score(X_test, y_test))\n",
    "print(mean_squared_error(y_test, tree_pred))"
   ]
  },
  {
   "cell_type": "markdown",
   "metadata": {},
   "source": [
    "## Random Forest Regression"
   ]
  },
  {
   "cell_type": "code",
   "execution_count": 279,
   "metadata": {
    "scrolled": true
   },
   "outputs": [
    {
     "name": "stderr",
     "output_type": "stream",
     "text": [
      "<ipython-input-279-7ebbab1b78d4>:4: DataConversionWarning: A column-vector y was passed when a 1d array was expected. Please change the shape of y to (n_samples,), for example using ravel().\n",
      "  forest_reg.fit(X_train, y_train)\n"
     ]
    },
    {
     "name": "stdout",
     "output_type": "stream",
     "text": [
      "0.9801889084879774\n",
      "0.8604698391153494\n",
      "2293884.7019044575\n"
     ]
    }
   ],
   "source": [
    "from sklearn.ensemble import RandomForestRegressor\n",
    "\n",
    "forest_reg = RandomForestRegressor()\n",
    "forest_reg.fit(X_train, y_train)\n",
    "print(forest_reg.score(X_train, y_train))\n",
    "forest_pred = tree_reg.predict(X_test)\n",
    "print(forest_reg.score(X_test, y_test))\n",
    "print(mean_squared_error(y_test, forest_pred))"
   ]
  },
  {
   "cell_type": "markdown",
   "metadata": {},
   "source": [
    "## Gradient Boosting"
   ]
  },
  {
   "cell_type": "code",
   "execution_count": 280,
   "metadata": {},
   "outputs": [
    {
     "name": "stderr",
     "output_type": "stream",
     "text": [
      "c:\\users\\sheon\\appdata\\local\\programs\\python\\python38\\lib\\site-packages\\sklearn\\utils\\validation.py:72: DataConversionWarning: A column-vector y was passed when a 1d array was expected. Please change the shape of y to (n_samples, ), for example using ravel().\n",
      "  return f(**kwargs)\n"
     ]
    },
    {
     "name": "stdout",
     "output_type": "stream",
     "text": [
      "train r2: 0.870451667080314\n",
      "test r2: 0.8699319022940883\n",
      "mse: 1259249.5554722194\n"
     ]
    }
   ],
   "source": [
    "from sklearn.ensemble import GradientBoostingRegressor\n",
    "\n",
    "gb_reg = GradientBoostingRegressor()\n",
    "gb_reg.fit(X_train, y_train)\n",
    "print(\"train r2: \" + str(gb_reg.score(X_train, y_train)))\n",
    "gb_pred = gb_reg.predict(X_test)\n",
    "print(\"test r2: \"+ str(gb_reg.score(X_test, y_test)))\n",
    "print(\"mse: \" + str(mean_squared_error(y_test, gb_pred)))"
   ]
  },
  {
   "cell_type": "markdown",
   "metadata": {},
   "source": [
    "## XGBoost"
   ]
  },
  {
   "cell_type": "code",
   "execution_count": 281,
   "metadata": {},
   "outputs": [],
   "source": [
    "import xgboost as xgb\n",
    "\n",
    "param = {'booster': 'gbtree',\n",
    "         'eta': 0.3,\n",
    "         'max_depth': 6,\n",
    "         'subsample': 0.7,\n",
    "         'colsample_bytree': 0.7,\n",
    "         'eval_metric':'rmse'}"
   ]
  },
  {
   "cell_type": "code",
   "execution_count": 282,
   "metadata": {},
   "outputs": [],
   "source": [
    "dtrain = xgb.DMatrix(X_train, label=y_train)\n",
    "dtest = xgb.DMatrix(X_test, label=y_test)"
   ]
  },
  {
   "cell_type": "code",
   "execution_count": 283,
   "metadata": {},
   "outputs": [],
   "source": [
    "xgb_reg = xgb.train(param, dtrain)"
   ]
  },
  {
   "cell_type": "code",
   "execution_count": 284,
   "metadata": {},
   "outputs": [],
   "source": [
    "xgb_pred = xgb_reg.predict(dtest)"
   ]
  },
  {
   "cell_type": "code",
   "execution_count": 285,
   "metadata": {},
   "outputs": [
    {
     "data": {
      "text/plain": [
       "1317875.2756795709"
      ]
     },
     "execution_count": 285,
     "metadata": {},
     "output_type": "execute_result"
    }
   ],
   "source": [
    "mean_squared_error(y_test, xgb_pred)"
   ]
  },
  {
   "cell_type": "markdown",
   "metadata": {},
   "source": [
    "## LSTM"
   ]
  },
  {
   "cell_type": "code",
   "execution_count": 288,
   "metadata": {},
   "outputs": [],
   "source": [
    "import keras"
   ]
  },
  {
   "cell_type": "code",
   "execution_count": null,
   "metadata": {},
   "outputs": [],
   "source": []
  }
 ],
 "metadata": {
  "kernelspec": {
   "display_name": "Python 3",
   "language": "python",
   "name": "python3"
  },
  "language_info": {
   "codemirror_mode": {
    "name": "ipython",
    "version": 3
   },
   "file_extension": ".py",
   "mimetype": "text/x-python",
   "name": "python",
   "nbconvert_exporter": "python",
   "pygments_lexer": "ipython3",
   "version": "3.8.6"
  }
 },
 "nbformat": 4,
 "nbformat_minor": 4
}
